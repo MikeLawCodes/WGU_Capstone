{
  "nbformat": 4,
  "nbformat_minor": 0,
  "metadata": {
    "colab": {
      "provenance": []
    },
    "kernelspec": {
      "name": "python3",
      "display_name": "Python 3"
    },
    "language_info": {
      "name": "python"
    }
  },
  "cells": [
    {
      "cell_type": "markdown",
      "source": [
        "# Machine Learning Bird Classification Application\n",
        "## WGU C964 Capstone\n",
        "\n",
        "\n",
        "---\n",
        "\n",
        "\n",
        "Michael Lawrence\n",
        "\n",
        "mlaw101@wgu.edu\n",
        "\n",
        "002680987"
      ],
      "metadata": {
        "id": "PK2Wp7xrD-U_"
      }
    },
    {
      "cell_type": "markdown",
      "source": [
        "### Create a Directory to Store the Model"
      ],
      "metadata": {
        "id": "Nt6yZA7fDg5j"
      }
    },
    {
      "cell_type": "code",
      "source": [
        "7# Cell 1\n",
        "!mkdir /content/models/"
      ],
      "metadata": {
        "id": "sD0PIoqe9pY9"
      },
      "execution_count": null,
      "outputs": []
    },
    {
      "cell_type": "markdown",
      "source": [
        "### Download the Dataset"
      ],
      "metadata": {
        "id": "MVobowAnDl9k"
      }
    },
    {
      "cell_type": "code",
      "execution_count": null,
      "metadata": {
        "colab": {
          "base_uri": "https://localhost:8080/"
        },
        "id": "6KC4__WH9WrL",
        "outputId": "eecffcc6-7d93-4274-e2dd-29fb212102b4"
      },
      "outputs": [
        {
          "output_type": "stream",
          "name": "stdout",
          "text": [
            "Dataset URL: https://www.kaggle.com/datasets/gpiosenka/100-bird-species\n",
            "License(s): CC0-1.0\n",
            "Downloading 100-bird-species.zip to /content\n",
            "100% 1.95G/1.96G [00:23<00:00, 160MB/s]\n",
            "100% 1.96G/1.96G [00:23<00:00, 89.1MB/s]\n"
          ]
        }
      ],
      "source": [
        "# Cell 2\n",
        "!kaggle datasets download -d gpiosenka/100-bird-species"
      ]
    },
    {
      "cell_type": "code",
      "source": [
        "# Cell 3\n",
        "import zipfile\n",
        "import os\n",
        "\n",
        "dir1 = '/content/test'\n",
        "dir2 = '/content/train'\n",
        "dir3 = '/content/valid'\n",
        "file1 = '/content/EfficientNetB0-525-(224 X 224)- 98.97.h5'\n",
        "file2 = '/content/birds.csv'\n",
        "\n",
        "if not (os.path.exists(dir1) and os.path.exists(dir2) and os.path.exists(dir3) and\n",
        "        os.path.exists(file1) and os.path.exists(file2)):\n",
        "    print(\"Extracting files...\")\n",
        "    zip_ref = zipfile.ZipFile('/content/100-bird-species.zip', 'r')\n",
        "    zip_ref.extractall('/content')\n",
        "    zip_ref.close()\n",
        "    print(\"Extraction completed.\")\n",
        "else:\n",
        "    print(\"Files already extracted, skipping extraction.\")"
      ],
      "metadata": {
        "colab": {
          "base_uri": "https://localhost:8080/"
        },
        "id": "0vYd4fGj9jtV",
        "outputId": "52c28126-7bbf-4355-e63d-03361ec72ca8"
      },
      "execution_count": null,
      "outputs": [
        {
          "output_type": "stream",
          "name": "stdout",
          "text": [
            "Extracting files...\n",
            "Extraction completed.\n"
          ]
        }
      ]
    },
    {
      "cell_type": "markdown",
      "source": [
        "### Clean the Data of Unused Files"
      ],
      "metadata": {
        "id": "G39fcYPhEIVp"
      }
    },
    {
      "cell_type": "code",
      "source": [
        "# Cell 4\n",
        "!rm -rf /content/sample_data/\n",
        "!rm -rf '/content/EfficientNetB0-525-(224 X 224)- 98.97.h5'"
      ],
      "metadata": {
        "id": "f3knooH29m58"
      },
      "execution_count": null,
      "outputs": []
    },
    {
      "cell_type": "code",
      "source": [
        "# Cell 5\n",
        "# Clean the data of joke images added by dataset creator\n",
        "!rm -rf '/content/test/LOONEY BIRDS'\n",
        "!rm -rf '/content/train/LOONEY BIRDS'\n",
        "!rm -rf '/content/valid/LOONEY BIRDS'"
      ],
      "metadata": {
        "id": "e8Fit6M89oNL"
      },
      "execution_count": null,
      "outputs": []
    },
    {
      "cell_type": "markdown",
      "source": [
        "### Install and Set up Anvil.works Server"
      ],
      "metadata": {
        "id": "H4wHbQehDZWy"
      }
    },
    {
      "cell_type": "code",
      "source": [
        "# Cell 6\n",
        "!pip install anvil-uplink"
      ],
      "metadata": {
        "colab": {
          "base_uri": "https://localhost:8080/",
          "height": 377
        },
        "id": "KNAMbq1A9sX3",
        "outputId": "d89f300b-62d9-42dc-84ca-1461fab1a4be"
      },
      "execution_count": null,
      "outputs": [
        {
          "output_type": "stream",
          "name": "stdout",
          "text": [
            "Collecting anvil-uplink\n",
            "  Downloading anvil_uplink-0.5.1-py2.py3-none-any.whl.metadata (1.5 kB)\n",
            "Collecting argparse (from anvil-uplink)\n",
            "  Downloading argparse-1.4.0-py2.py3-none-any.whl.metadata (2.8 kB)\n",
            "Requirement already satisfied: future in /usr/local/lib/python3.10/dist-packages (from anvil-uplink) (1.0.0)\n",
            "Requirement already satisfied: six in /usr/local/lib/python3.10/dist-packages (from anvil-uplink) (1.16.0)\n",
            "Collecting ws4py-sslupdate (from anvil-uplink)\n",
            "  Downloading ws4py_sslupdate-0.5.1b0-py2.py3-none-any.whl.metadata (1.7 kB)\n",
            "Downloading anvil_uplink-0.5.1-py2.py3-none-any.whl (95 kB)\n",
            "\u001b[2K   \u001b[90m━━━━━━━━━━━━━━━━━━━━━━━━━━━━━━━━━━━━━━━━\u001b[0m \u001b[32m95.9/95.9 kB\u001b[0m \u001b[31m6.4 MB/s\u001b[0m eta \u001b[36m0:00:00\u001b[0m\n",
            "\u001b[?25hDownloading argparse-1.4.0-py2.py3-none-any.whl (23 kB)\n",
            "Downloading ws4py_sslupdate-0.5.1b0-py2.py3-none-any.whl (45 kB)\n",
            "\u001b[2K   \u001b[90m━━━━━━━━━━━━━━━━━━━━━━━━━━━━━━━━━━━━━━━━\u001b[0m \u001b[32m45.8/45.8 kB\u001b[0m \u001b[31m2.6 MB/s\u001b[0m eta \u001b[36m0:00:00\u001b[0m\n",
            "\u001b[?25hInstalling collected packages: ws4py-sslupdate, argparse, anvil-uplink\n",
            "Successfully installed anvil-uplink-0.5.1 argparse-1.4.0 ws4py-sslupdate-0.5.1b0\n"
          ]
        },
        {
          "output_type": "display_data",
          "data": {
            "application/vnd.colab-display-data+json": {
              "pip_warning": {
                "packages": [
                  "argparse",
                  "google"
                ]
              },
              "id": "cfb2c74ba1fc40bc8e93bd030c185d81"
            }
          },
          "metadata": {}
        }
      ]
    },
    {
      "cell_type": "markdown",
      "source": [
        "### Import frameworks and libraries"
      ],
      "metadata": {
        "id": "M5QtSyOfDTS9"
      }
    },
    {
      "cell_type": "code",
      "source": [
        "# Cell 7\n",
        "import anvil.server\n",
        "\n",
        "anvil.server.connect(\"server_K4OUTJXF6SA44QBYQBGEQUBE-LVUPCM3LXUEPINUS\")"
      ],
      "metadata": {
        "colab": {
          "base_uri": "https://localhost:8080/"
        },
        "id": "yIPsl_HT9tjg",
        "outputId": "55e325d2-5417-43ba-863f-52254db101de"
      },
      "execution_count": null,
      "outputs": [
        {
          "output_type": "stream",
          "name": "stdout",
          "text": [
            "Connecting to wss://anvil.works/uplink\n",
            "Anvil websocket open\n",
            "Connected to \"Default Environment\" as SERVER\n"
          ]
        }
      ]
    },
    {
      "cell_type": "code",
      "source": [
        "# Cell 8\n",
        "import tensorflow as tf\n",
        "import io\n",
        "import datetime\n",
        "import random\n",
        "import tensorflow.keras.backend as K\n",
        "\n",
        "from tensorflow.keras import Sequential, models, mixed_precision\n",
        "from tensorflow.keras import utils\n",
        "from tensorflow.keras.utils import plot_model\n",
        "from tensorflow.keras.preprocessing import image, image_dataset_from_directory\n",
        "from tensorflow.keras.models import Model, load_model\n",
        "from tensorflow.keras.saving import register_keras_serializable\n",
        "from tensorflow.keras.optimizers import Adam\n",
        "from tensorflow.keras.layers import (Dense, Conv2D, MaxPool2D, AvgPool2D, GlobalAveragePooling2D,\n",
        "                                    Flatten, concatenate, BatchNormalization, ReLU,\n",
        "                                    Dropout, Input, Reshape, Resizing, Rescaling, RandomFlip,\n",
        "                                    RandomContrast, RandomZoom, RandomRotation)\n",
        "from PIL import Image\n",
        "\n",
        "print(\"Tensorflow Version: \" + tf.__version__)"
      ],
      "metadata": {
        "colab": {
          "base_uri": "https://localhost:8080/"
        },
        "id": "bqnIL_vn936z",
        "outputId": "1717f43a-46dd-4b70-8bc7-8cf04ba1b952"
      },
      "execution_count": null,
      "outputs": [
        {
          "output_type": "stream",
          "name": "stdout",
          "text": [
            "Tensorflow Version: 2.17.0\n"
          ]
        }
      ]
    },
    {
      "cell_type": "code",
      "source": [
        "# Cell 9\n",
        "import numpy as np\n",
        "import pandas as pd\n",
        "import seaborn as sns\n",
        "import matplotlib.pyplot as plt\n",
        "from sklearn.metrics import confusion_matrix"
      ],
      "metadata": {
        "id": "gOtBJweL9_eP"
      },
      "execution_count": null,
      "outputs": []
    },
    {
      "cell_type": "markdown",
      "source": [
        "### Define global variables"
      ],
      "metadata": {
        "id": "URq_aw0JDQXf"
      }
    },
    {
      "cell_type": "code",
      "source": [
        "# Cell 10\n",
        "path_to_training_data = '/content/train'\n",
        "path_to_test_data = '/content/test'\n",
        "path_to_validating_data = '/content/valid'"
      ],
      "metadata": {
        "id": "n0tv78os-C3s"
      },
      "execution_count": null,
      "outputs": []
    },
    {
      "cell_type": "code",
      "source": [
        "# Cell 11\n",
        "batch_size = 64\n",
        "image_size = (224, 224)\n",
        "input_shape = (224, 224, 3)\n",
        "num_classes = 524\n",
        "seed = 42\n",
        "np.random.seed(42)\n",
        "tf.random.set_seed(seed)"
      ],
      "metadata": {
        "id": "GrPhAscM-FxC"
      },
      "execution_count": null,
      "outputs": []
    },
    {
      "cell_type": "markdown",
      "source": [
        "### Datasets are generated, prefetched, cached and class names are extracted.\n",
        "Data Augmentation is applied to the training dataset"
      ],
      "metadata": {
        "id": "LJlXKBt2DMDd"
      }
    },
    {
      "cell_type": "code",
      "source": [
        "# Cell 12\n",
        "raw_training_dataset = image_dataset_from_directory(\n",
        "    path_to_training_data,\n",
        "    image_size=image_size,\n",
        "    batch_size=batch_size,\n",
        "    label_mode='categorical',\n",
        "    seed=seed,\n",
        "    shuffle=True\n",
        ")\n",
        "\n",
        "class_names = raw_training_dataset.class_names\n",
        "\n",
        "data_augmentation_pipeline = Sequential([\n",
        "        RandomFlip(\"horizontal_and_vertical\"),\n",
        "        RandomRotation(0.2),\n",
        "        RandomZoom(0.2),\n",
        "        RandomContrast(0.2)\n",
        "    ])\n",
        "\n",
        "training_dataset = raw_training_dataset.map(\n",
        "    lambda x, y: (data_augmentation_pipeline(x, training=True), y)\n",
        ").cache().prefetch(buffer_size=tf.data.AUTOTUNE)\n",
        "\n",
        "valid_dataset = image_dataset_from_directory(\n",
        "    path_to_validating_data,\n",
        "    image_size=image_size,\n",
        "    batch_size=batch_size,\n",
        "    label_mode='categorical',\n",
        "    seed=seed,\n",
        "    shuffle=True\n",
        ").cache().prefetch(buffer_size=tf.data.AUTOTUNE)\n",
        "\n",
        "test_dataset = image_dataset_from_directory(\n",
        "    path_to_test_data,\n",
        "    image_size=image_size,\n",
        "    batch_size=batch_size,\n",
        "    label_mode='categorical',\n",
        "    seed=seed,\n",
        "    shuffle=True\n",
        ").prefetch(buffer_size=tf.data.AUTOTUNE)"
      ],
      "metadata": {
        "colab": {
          "base_uri": "https://localhost:8080/"
        },
        "id": "MTOYKuFE-HyL",
        "outputId": "29d3cc68-880a-4a9d-c312-67667b405f6c"
      },
      "execution_count": null,
      "outputs": [
        {
          "output_type": "stream",
          "name": "stdout",
          "text": [
            "Found 84479 files belonging to 524 classes.\n",
            "Found 2620 files belonging to 524 classes.\n",
            "Found 2620 files belonging to 524 classes.\n"
          ]
        }
      ]
    },
    {
      "cell_type": "code",
      "source": [
        "# Cell 13\n",
        "trained_model = load_model('/content/models/bird_classification_densenet.keras')"
      ],
      "metadata": {
        "id": "-qxCmBXa-R52"
      },
      "execution_count": null,
      "outputs": []
    },
    {
      "cell_type": "markdown",
      "source": [
        "### Create functions for preprocessing images and decoding predictions"
      ],
      "metadata": {
        "id": "6FhDOpUTC8Gx"
      }
    },
    {
      "cell_type": "code",
      "source": [
        "# Cell 14\n",
        "target_size = image_size\n",
        "\n",
        "def preprocess_image(img_path, target_size):\n",
        "    img = image.load_img(img_path, target_size=target_size)\n",
        "    img_array = image.img_to_array(img)\n",
        "    img_array = np.array([img_array])\n",
        "    return img_array\n"
      ],
      "metadata": {
        "id": "j0z7Xcwg-XWX"
      },
      "execution_count": null,
      "outputs": []
    },
    {
      "cell_type": "code",
      "source": [
        "# Cell 15\n",
        "def decode_predictions(predictions, class_names, top=5):\n",
        "    if len(predictions.shape) != 2:\n",
        "        raise ValueError(f\"`decode_predictions` expects a 2D array, received shape: {predictions.shape}\")\n",
        "\n",
        "    decoded_prediction = []\n",
        "    for prediction in predictions:\n",
        "        top_indices = prediction.argsort()[-top:][::-1]\n",
        "        result = [(class_names[i], prediction[i]) for i in top_indices]\n",
        "        decoded_prediction.append(result)\n",
        "\n",
        "    return decoded_prediction"
      ],
      "metadata": {
        "id": "pfmPEmQd-Yhz"
      },
      "execution_count": null,
      "outputs": []
    },
    {
      "cell_type": "markdown",
      "source": [
        "### Test model predictions on 5 test images and show the top 3 predictions and their probability"
      ],
      "metadata": {
        "id": "37KIzmd9C3kJ"
      }
    },
    {
      "cell_type": "code",
      "source": [
        "# Cell 16\n",
        "image_paths = [\n",
        "    '/content/test/BALD EAGLE/3.jpg',\n",
        "    '/content/test/AMERICAN FLAMINGO/4.jpg',\n",
        "    '/content/test/COMMON FIRECREST/2.jpg',\n",
        "    '/content/test/CALIFORNIA GULL/4.jpg',\n",
        "    '/content/test/CROW/5.jpg'\n",
        "\n",
        "]\n",
        "\n",
        "images = np.vstack([preprocess_image(img_path, target_size) for img_path in image_paths])\n",
        "predictions = trained_model.predict(images)\n",
        "decoded_preds = decode_predictions(predictions, class_names, top=3)\n",
        "\n",
        "for img_path, decoded in zip(image_paths, decoded_preds):\n",
        "    print(f\"Image: {img_path}\")\n",
        "    for class_name, probability in decoded:\n",
        "        print(f\"  Predicted class: {class_name}, Probability: {probability:.4f}\")\n"
      ],
      "metadata": {
        "colab": {
          "base_uri": "https://localhost:8080/"
        },
        "id": "fROh8HdL-Z_C",
        "outputId": "dacacbc7-41e7-46fd-cef3-5805e9fec81f"
      },
      "execution_count": null,
      "outputs": [
        {
          "output_type": "stream",
          "name": "stdout",
          "text": [
            "\u001b[1m1/1\u001b[0m \u001b[32m━━━━━━━━━━━━━━━━━━━━\u001b[0m\u001b[37m\u001b[0m \u001b[1m15s\u001b[0m 15s/step\n",
            "Image: /content/test/BALD EAGLE/3.jpg\n",
            "  Predicted class: BALD EAGLE, Probability: 0.8920\n",
            "  Predicted class: WHITE TAILED TROPIC, Probability: 0.0944\n",
            "  Predicted class: ALBATROSS, Probability: 0.0090\n",
            "Image: /content/test/AMERICAN FLAMINGO/4.jpg\n",
            "  Predicted class: AMERICAN FLAMINGO, Probability: 0.9993\n",
            "  Predicted class: SCARLET IBIS, Probability: 0.0007\n",
            "  Predicted class: BALD IBIS, Probability: 0.0000\n",
            "Image: /content/test/COMMON FIRECREST/2.jpg\n",
            "  Predicted class: COMMON FIRECREST, Probability: 1.0000\n",
            "  Predicted class: D-ARNAUDS BARBET, Probability: 0.0000\n",
            "  Predicted class: CAPE MAY WARBLER, Probability: 0.0000\n",
            "Image: /content/test/CALIFORNIA GULL/4.jpg\n",
            "  Predicted class: CALIFORNIA GULL, Probability: 0.9634\n",
            "  Predicted class: NORTHERN FULMAR, Probability: 0.0354\n",
            "  Predicted class: FAIRY TERN, Probability: 0.0006\n",
            "Image: /content/test/CROW/5.jpg\n",
            "  Predicted class: HAMERKOP, Probability: 0.6570\n",
            "  Predicted class: BLACK VULTURE, Probability: 0.1996\n",
            "  Predicted class: CROW, Probability: 0.0333\n"
          ]
        }
      ]
    },
    {
      "cell_type": "markdown",
      "source": [],
      "metadata": {
        "id": "QYvao3p_CxBY"
      }
    },
    {
      "cell_type": "markdown",
      "source": [
        "### Create callable classification function that links to Anvil.Works web front end\n",
        "[Link to this project's Anvil.Works Front-end implementation](https://educated-oval-iberian-lynx.anvil.app)\n"
      ],
      "metadata": {
        "id": "iOwdaOWYkb0n"
      }
    },
    {
      "cell_type": "code",
      "source": [
        "# Cell 17\n",
        "@anvil.server.callable\n",
        "def classify_image(file):\n",
        "    if not file:\n",
        "        return {'result': 'No file uploaded'}\n",
        "\n",
        "    image_stream = io.BytesIO(file.get_bytes())\n",
        "\n",
        "    processed_image = preprocess_image(image_stream, target_size)\n",
        "\n",
        "    prediction = trained_model.predict(processed_image)\n",
        "    predicted_class = np.argmax(prediction, axis=-1)[0]\n",
        "\n",
        "    label = class_names[predicted_class]\n",
        "\n",
        "    return {'result' : label}"
      ],
      "metadata": {
        "id": "3p6d8vGb-fO8"
      },
      "execution_count": null,
      "outputs": []
    },
    {
      "cell_type": "code",
      "source": [
        "# Cell 18\n",
        "anvil.server.wait_forever()"
      ],
      "metadata": {
        "colab": {
          "base_uri": "https://localhost:8080/",
          "height": 263
        },
        "id": "p3Y1w9xV-gc1",
        "outputId": "25f35d1c-9c30-45cc-a4c8-97c49543cd70"
      },
      "execution_count": null,
      "outputs": [
        {
          "output_type": "stream",
          "name": "stdout",
          "text": [
            "\u001b[1m1/1\u001b[0m \u001b[32m━━━━━━━━━━━━━━━━━━━━\u001b[0m\u001b[37m\u001b[0m \u001b[1m12s\u001b[0m 12s/step\n",
            "\u001b[1m1/1\u001b[0m \u001b[32m━━━━━━━━━━━━━━━━━━━━\u001b[0m\u001b[37m\u001b[0m \u001b[1m0s\u001b[0m 237ms/step\n"
          ]
        },
        {
          "output_type": "error",
          "ename": "KeyboardInterrupt",
          "evalue": "",
          "traceback": [
            "\u001b[0;31m---------------------------------------------------------------------------\u001b[0m",
            "\u001b[0;31mKeyboardInterrupt\u001b[0m                         Traceback (most recent call last)",
            "\u001b[0;32m<ipython-input-19-95cac3476493>\u001b[0m in \u001b[0;36m<cell line: 1>\u001b[0;34m()\u001b[0m\n\u001b[0;32m----> 1\u001b[0;31m \u001b[0manvil\u001b[0m\u001b[0;34m.\u001b[0m\u001b[0mserver\u001b[0m\u001b[0;34m.\u001b[0m\u001b[0mwait_forever\u001b[0m\u001b[0;34m(\u001b[0m\u001b[0;34m)\u001b[0m\u001b[0;34m\u001b[0m\u001b[0;34m\u001b[0m\u001b[0m\n\u001b[0m",
            "\u001b[0;32m/usr/local/lib/python3.10/dist-packages/anvil/server.py\u001b[0m in \u001b[0;36mwait_forever\u001b[0;34m()\u001b[0m\n\u001b[1;32m    438\u001b[0m     \u001b[0m_get_connection\u001b[0m\u001b[0;34m(\u001b[0m\u001b[0;34m)\u001b[0m\u001b[0;34m\u001b[0m\u001b[0;34m\u001b[0m\u001b[0m\n\u001b[1;32m    439\u001b[0m     \u001b[0;32mwhile\u001b[0m \u001b[0;32mTrue\u001b[0m\u001b[0;34m:\u001b[0m\u001b[0;34m\u001b[0m\u001b[0;34m\u001b[0m\u001b[0m\n\u001b[0;32m--> 440\u001b[0;31m         \u001b[0mtime\u001b[0m\u001b[0;34m.\u001b[0m\u001b[0msleep\u001b[0m\u001b[0;34m(\u001b[0m\u001b[0;36m1\u001b[0m\u001b[0;34m)\u001b[0m\u001b[0;34m\u001b[0m\u001b[0;34m\u001b[0m\u001b[0m\n\u001b[0m",
            "\u001b[0;31mKeyboardInterrupt\u001b[0m: "
          ]
        }
      ]
    }
  ]
}